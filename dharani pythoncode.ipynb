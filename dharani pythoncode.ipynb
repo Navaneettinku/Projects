{
 "cells": [
  {
   "cell_type": "code",
   "execution_count": 5,
   "id": "1ce60724",
   "metadata": {
    "scrolled": true
   },
   "outputs": [
    {
     "ename": "ModuleNotFoundError",
     "evalue": "No module named 'selenium'",
     "output_type": "error",
     "traceback": [
      "\u001b[1;31m---------------------------------------------------------------------------\u001b[0m",
      "\u001b[1;31mModuleNotFoundError\u001b[0m                       Traceback (most recent call last)",
      "Cell \u001b[1;32mIn[5], line 1\u001b[0m\n\u001b[1;32m----> 1\u001b[0m \u001b[38;5;28;01mimport\u001b[39;00m \u001b[38;5;21;01mselenium\u001b[39;00m\n\u001b[0;32m      2\u001b[0m \u001b[38;5;28;01mfrom\u001b[39;00m \u001b[38;5;21;01mselenium\u001b[39;00m \u001b[38;5;28;01mimport\u001b[39;00m webdriver\n\u001b[0;32m      3\u001b[0m \u001b[38;5;28;01mfrom\u001b[39;00m \u001b[38;5;21;01mselenium\u001b[39;00m\u001b[38;5;21;01m.\u001b[39;00m\u001b[38;5;21;01mwebdriver\u001b[39;00m\u001b[38;5;21;01m.\u001b[39;00m\u001b[38;5;21;01msupport\u001b[39;00m\u001b[38;5;21;01m.\u001b[39;00m\u001b[38;5;21;01mui\u001b[39;00m \u001b[38;5;28;01mimport\u001b[39;00m Select\n",
      "\u001b[1;31mModuleNotFoundError\u001b[0m: No module named 'selenium'"
     ]
    }
   ],
   "source": [
    "import selenium\n",
    "from selenium import webdriver\n",
    "from selenium.webdriver.support.ui import Select\n",
    "\n",
    "def fetch_khata_numbers(district, mandal, village, survey_number):\n",
    "    # Initialize WebDriver (replace 'chromedriver' with appropriate driver executable)\n",
    "    # Initialize WebDriver (replace 'chromedriver' with appropriate driver executable)\n",
    "    driver = webdriver.Opera(executable_path=r'C:\\Users\\Asus\\Downloads\\operadriver_win64\\operadriver.exe')\n",
    "    driver.get(\"https://dharani.telangana.gov.in/knowLandStatus\")  # Replace 'website_url_here' with the actual website URL\n",
    "\n",
    "    try:\n",
    "        # Select district, mandal, village, and survey number from dropdowns\n",
    "        select_district = Select(driver.find_element_by_id(\"district\"))\n",
    "        select_district.select_by_visible_text(district)\n",
    "        \n",
    "        select_mandal = Select(driver.find_element_by_id(\"mandal\"))\n",
    "        select_mandal.select_by_visible_text(mandal)\n",
    "        \n",
    "        select_village = Select(driver.find_element_by_id(\"village\"))\n",
    "        select_village.select_by_visible_text(village)\n",
    "        \n",
    "        \n",
    "        select_survey_number = Select(driver.find_element_by_id(\"survey_number\"))\n",
    "        select_survey_number.select_by_visible_text(survey_number)\n",
    "        \n",
    "        # Fetch Khata numbers\n",
    "        select_khata_number = Select(driver.find_element_by_id(\"khata_number\"))\n",
    "        khata_numbers = [option.text for option in select_khata_number.options][1:]  # Skip the default option\n",
    "        return khata_numbers\n",
    "\n",
    "    except Exception as e:\n",
    "        print(\"An error occurred:\", e)\n",
    "        return None\n",
    "\n",
    "    finally:\n",
    "        # Close the browser window\n",
    "        driver.quit()\n",
    "\n",
    "if __name__ == \"__main__\":\n",
    "    # Prompt user for inputs\n",
    "    district = input(\"Enter district: \")\n",
    "    mandal = input(\"Enter mandal: \")\n",
    "    village = input(\"Enter village: \")\n",
    "    survey_number = input(\"Enter survey number: \")\n",
    "\n",
    "    # Fetch Khata numbers\n",
    "    khata_numbers = fetch_khata_numbers(district, mandal, village, survey_number)\n",
    "\n",
    "    # Print Khata numbers\n",
    "    if khata_numbers:\n",
    "        print(\"Khata Numbers:\")\n",
    "        for khata_number in khata_numbers:\n",
    "            print(khata_number)\n",
    "    else:\n",
    "        print(\"No Khata numbers found.\")\n"
   ]
  },
  {
   "cell_type": "code",
   "execution_count": null,
   "id": "8dc59776",
   "metadata": {},
   "outputs": [],
   "source": []
  },
  {
   "cell_type": "code",
   "execution_count": null,
   "id": "0671391f",
   "metadata": {},
   "outputs": [],
   "source": []
  }
 ],
 "metadata": {
  "kernelspec": {
   "display_name": "Python 3 (ipykernel)",
   "language": "python",
   "name": "python3"
  },
  "language_info": {
   "codemirror_mode": {
    "name": "ipython",
    "version": 3
   },
   "file_extension": ".py",
   "mimetype": "text/x-python",
   "name": "python",
   "nbconvert_exporter": "python",
   "pygments_lexer": "ipython3",
   "version": "3.11.5"
  }
 },
 "nbformat": 4,
 "nbformat_minor": 5
}
